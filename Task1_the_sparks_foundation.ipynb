{
  "nbformat": 4,
  "nbformat_minor": 0,
  "metadata": {
    "colab": {
      "name": "Copy of Students marks prediction.ipynb",
      "provenance": [],
      "collapsed_sections": [],
      "authorship_tag": "ABX9TyPBTlKT48ZEO3lkLkzayp3i",
      "include_colab_link": true
    },
    "kernelspec": {
      "name": "python3",
      "display_name": "Python 3"
    }
  },
  "cells": [
    {
      "cell_type": "markdown",
      "metadata": {
        "id": "view-in-github",
        "colab_type": "text"
      },
      "source": [
        "<a href=\"https://colab.research.google.com/github/AnshulPratap26/Student_mark_prediction/blob/main/Task1_the_sparks_foundation.ipynb\" target=\"_parent\"><img src=\"https://colab.research.google.com/assets/colab-badge.svg\" alt=\"Open In Colab\"/></a>"
      ]
    },
    {
      "cell_type": "markdown",
      "metadata": {
        "id": "1_ajWKyGtUtx"
      },
      "source": [
        "# Student marks prediction Project\n",
        "Auther : Anshul Pratap \n",
        "\n",
        "Data Science and Business Analytics internship at The Spark Foundation"
      ]
    },
    {
      "cell_type": "markdown",
      "metadata": {
        "id": "Zc0mVn87PE-h"
      },
      "source": [
        "# Simple Linear Regression Task"
      ]
    },
    {
      "cell_type": "markdown",
      "metadata": {
        "id": "nzIrYQy-OpJD"
      },
      "source": [
        "\n",
        "In this regression task we will predict the percentage of marks that a student is expected to score based upon the number of hours they studied. \n",
        "Also task is to predict How many score a student will get after studying 9.25 hours."
      ]
    },
    {
      "cell_type": "code",
      "metadata": {
        "id": "LH_LuoLIjCsF"
      },
      "source": [
        "#importing necessary libraries\n",
        "import pandas as pd     #pandas module for reading data and manipulation\n",
        "import numpy as np      #numpy is for mathematical calculations\n",
        "import matplotlib.pyplot as plt  #matplotlib library for plotting graphs"
      ],
      "execution_count": 1,
      "outputs": []
    },
    {
      "cell_type": "code",
      "metadata": {
        "id": "JehTuF8uj9Da"
      },
      "source": [
        "#rading data from excel file using pandas\n",
        "data = pd.read_excel('/content/student study dataset.xlsx')"
      ],
      "execution_count": 2,
      "outputs": []
    },
    {
      "cell_type": "markdown",
      "metadata": {
        "id": "xtVtE4Sntuad"
      },
      "source": [
        "## Data Preprocessing Starts here"
      ]
    },
    {
      "cell_type": "code",
      "metadata": {
        "id": "5k4ywR2ukEok",
        "outputId": "3ef1df11-a559-4ca6-d5d1-b4268385faf3",
        "colab": {
          "base_uri": "https://localhost:8080/",
          "height": 204
        }
      },
      "source": [
        "#for looking at few rows of dataset\n",
        "data.head() "
      ],
      "execution_count": 3,
      "outputs": [
        {
          "output_type": "execute_result",
          "data": {
            "text/html": [
              "<div>\n",
              "<style scoped>\n",
              "    .dataframe tbody tr th:only-of-type {\n",
              "        vertical-align: middle;\n",
              "    }\n",
              "\n",
              "    .dataframe tbody tr th {\n",
              "        vertical-align: top;\n",
              "    }\n",
              "\n",
              "    .dataframe thead th {\n",
              "        text-align: right;\n",
              "    }\n",
              "</style>\n",
              "<table border=\"1\" class=\"dataframe\">\n",
              "  <thead>\n",
              "    <tr style=\"text-align: right;\">\n",
              "      <th></th>\n",
              "      <th>Hours</th>\n",
              "      <th>Scores</th>\n",
              "    </tr>\n",
              "  </thead>\n",
              "  <tbody>\n",
              "    <tr>\n",
              "      <th>0</th>\n",
              "      <td>2.5</td>\n",
              "      <td>21</td>\n",
              "    </tr>\n",
              "    <tr>\n",
              "      <th>1</th>\n",
              "      <td>5.1</td>\n",
              "      <td>47</td>\n",
              "    </tr>\n",
              "    <tr>\n",
              "      <th>2</th>\n",
              "      <td>3.2</td>\n",
              "      <td>27</td>\n",
              "    </tr>\n",
              "    <tr>\n",
              "      <th>3</th>\n",
              "      <td>8.5</td>\n",
              "      <td>75</td>\n",
              "    </tr>\n",
              "    <tr>\n",
              "      <th>4</th>\n",
              "      <td>3.5</td>\n",
              "      <td>30</td>\n",
              "    </tr>\n",
              "  </tbody>\n",
              "</table>\n",
              "</div>"
            ],
            "text/plain": [
              "   Hours  Scores\n",
              "0    2.5      21\n",
              "1    5.1      47\n",
              "2    3.2      27\n",
              "3    8.5      75\n",
              "4    3.5      30"
            ]
          },
          "metadata": {
            "tags": []
          },
          "execution_count": 3
        }
      ]
    },
    {
      "cell_type": "code",
      "metadata": {
        "id": "0wnX9nmqtoHp",
        "outputId": "25b9a106-4001-4cd7-e0f8-45c5fb664bdb",
        "colab": {
          "base_uri": "https://localhost:8080/"
        }
      },
      "source": [
        "#checking shape of data\n",
        "data.shape "
      ],
      "execution_count": 4,
      "outputs": [
        {
          "output_type": "execute_result",
          "data": {
            "text/plain": [
              "(25, 2)"
            ]
          },
          "metadata": {
            "tags": []
          },
          "execution_count": 4
        }
      ]
    },
    {
      "cell_type": "code",
      "metadata": {
        "id": "07o6jphrkGOM",
        "outputId": "bf276e8f-739e-4913-e889-216c08b2bd96",
        "colab": {
          "base_uri": "https://localhost:8080/"
        }
      },
      "source": [
        "data.info() #info funtion to gather some information"
      ],
      "execution_count": 5,
      "outputs": [
        {
          "output_type": "stream",
          "text": [
            "<class 'pandas.core.frame.DataFrame'>\n",
            "RangeIndex: 25 entries, 0 to 24\n",
            "Data columns (total 2 columns):\n",
            " #   Column  Non-Null Count  Dtype  \n",
            "---  ------  --------------  -----  \n",
            " 0   Hours   25 non-null     float64\n",
            " 1   Scores  25 non-null     int64  \n",
            "dtypes: float64(1), int64(1)\n",
            "memory usage: 528.0 bytes\n"
          ],
          "name": "stdout"
        }
      ]
    },
    {
      "cell_type": "code",
      "metadata": {
        "id": "y_juq68oyDRH"
      },
      "source": [
        ""
      ],
      "execution_count": 5,
      "outputs": []
    },
    {
      "cell_type": "markdown",
      "metadata": {
        "id": "RSgGVbLNyD8E"
      },
      "source": [
        "plotting graph to check the relation between Scores and Hours"
      ]
    },
    {
      "cell_type": "code",
      "metadata": {
        "id": "VC1e3Km_waxy",
        "outputId": "dc9ad8cb-1dc9-47da-a204-0b965db15be5",
        "colab": {
          "base_uri": "https://localhost:8080/",
          "height": 404
        }
      },
      "source": [
        "#scatter graph to check relation between attributes\n",
        "\n",
        "plt.figure(figsize=(10,6))\n",
        "plt.grid()\n",
        "plt.scatter(x=data.Hours,y=data.Scores,c='red')\n",
        "plt.xlabel(\"Hours\")\n",
        "plt.ylabel('Scores')\n",
        "plt.title('Scores and Hour relationship ')\n",
        "plt.show()"
      ],
      "execution_count": 26,
      "outputs": [
        {
          "output_type": "display_data",
          "data": {
            "image/png": "[encoded data removed]",
            "text/plain": [
              "<Figure size 720x432 with 1 Axes>"
            ]
          },
          "metadata": {
            "tags": [],
            "needs_background": "light"
          }
        }
      ]
    },
    {
      "cell_type": "code",
      "metadata": {
        "id": "j6ICDGp0kMzM",
        "outputId": "aadd4acb-d7b8-4479-b8bc-94b7a23a74a6",
        "colab": {
          "base_uri": "https://localhost:8080/"
        }
      },
      "source": [
        "# checking any missing values in dataset\n",
        "data.isnull().sum()"
      ],
      "execution_count": 7,
      "outputs": [
        {
          "output_type": "execute_result",
          "data": {
            "text/plain": [
              "Hours     0\n",
              "Scores    0\n",
              "dtype: int64"
            ]
          },
          "metadata": {
            "tags": []
          },
          "execution_count": 7
        }
      ]
    },
    {
      "cell_type": "code",
      "metadata": {
        "id": "VXUJm__9lFp9",
        "outputId": "c91819b6-26ab-496c-e074-d27eab8e7dfb",
        "colab": {
          "base_uri": "https://localhost:8080/",
          "height": 286
        }
      },
      "source": [
        "# ploting heat graph \n",
        "import seaborn as sns\n",
        "sns.heatmap(data.isnull())"
      ],
      "execution_count": 8,
      "outputs": [
        {
          "output_type": "execute_result",
          "data": {
            "text/plain": [
              "<matplotlib.axes._subplots.AxesSubplot at 0x7f5a54ec33c8>"
            ]
          },
          "metadata": {
            "tags": []
          },
          "execution_count": 8
        },
        {
          "output_type": "display_data",
          "data": {
            "image/png": "[encoded data removed]",
            "text/plain": [
              "<Figure size 432x288 with 2 Axes>"
            ]
          },
          "metadata": {
            "tags": [],
            "needs_background": "light"
          }
        }
      ]
    },
    {
      "cell_type": "code",
      "metadata": {
        "id": "j1UHH9-Ar5cH"
      },
      "source": [
        ""
      ],
      "execution_count": 8,
      "outputs": []
    },
    {
      "cell_type": "markdown",
      "metadata": {
        "id": "AE_D5VUzr6mH"
      },
      "source": [
        "# Splitting dataset into features and label \n",
        "####then splitting features and labels into training and validation set"
      ]
    },
    {
      "cell_type": "code",
      "metadata": {
        "id": "fQy-KUZ0nIqA"
      },
      "source": [
        "# splitting dataset into label and feature \n",
        "X = data.iloc[:,0].values\n",
        "Y= data.iloc[:,1].values"
      ],
      "execution_count": 9,
      "outputs": []
    },
    {
      "cell_type": "code",
      "metadata": {
        "id": "geHsLMR1mnUU"
      },
      "source": [
        "from sklearn.model_selection import train_test_split\n",
        "X_train , x_test , Y_train, y_test = train_test_split(X,Y,test_size=0.2,random_state = 0)"
      ],
      "execution_count": 11,
      "outputs": []
    },
    {
      "cell_type": "markdown",
      "metadata": {
        "id": "HDcwh60vryQS"
      },
      "source": [
        "# Building model to predict the values"
      ]
    },
    {
      "cell_type": "code",
      "metadata": {
        "id": "munSO5bMnqF4",
        "outputId": "3fffdee1-3f72-4e7d-9d4b-196993803156",
        "colab": {
          "base_uri": "https://localhost:8080/"
        }
      },
      "source": [
        "from sklearn.linear_model import LinearRegression\n",
        "model = LinearRegression()\n",
        "model.fit(X.reshape(-1,1),Y)"
      ],
      "execution_count": 12,
      "outputs": [
        {
          "output_type": "execute_result",
          "data": {
            "text/plain": [
              "LinearRegression(copy_X=True, fit_intercept=True, n_jobs=None, normalize=False)"
            ]
          },
          "metadata": {
            "tags": []
          },
          "execution_count": 12
        }
      ]
    },
    {
      "cell_type": "code",
      "metadata": {
        "id": "t31B71zprhOu",
        "outputId": "1ee0b2aa-6401-4a06-a7a2-46c4671edbaa",
        "colab": {
          "base_uri": "https://localhost:8080/",
          "height": 265
        }
      },
      "source": [
        "# Plotting the regression line\n",
        "slope = model.coef_*X+model.intercept_\n",
        "\n",
        "# Plotting for the test data\n",
        "plt.scatter(X, Y)\n",
        "plt.plot(X, slope, c='red')\n",
        "plt.show()"
      ],
      "execution_count": 32,
      "outputs": [
        {
          "output_type": "display_data",
          "data": {
            "image/png": "[encoded data removed]",
            "text/plain": [
              "<Figure size 432x288 with 1 Axes>"
            ]
          },
          "metadata": {
            "tags": [],
            "needs_background": "light"
          }
        }
      ]
    },
    {
      "cell_type": "markdown",
      "metadata": {
        "id": "DzV016U1sRTi"
      },
      "source": [
        "## Predicting values"
      ]
    },
    {
      "cell_type": "code",
      "metadata": {
        "id": "GUkqBn6Yn23m",
        "outputId": "84912149-b47c-4d5c-c005-fda0f20c5f05",
        "colab": {
          "base_uri": "https://localhost:8080/"
        }
      },
      "source": [
        "y_pred = model.predict(x_test.reshape(-1,1))\n"
      ],
      "execution_count": 13,
      "outputs": [
        {
          "output_type": "execute_result",
          "data": {
            "text/plain": [
              "array([17.14737849, 33.76624426, 74.8246185 , 26.92318188, 60.16091341])"
            ]
          },
          "metadata": {
            "tags": []
          },
          "execution_count": 13
        }
      ]
    },
    {
      "cell_type": "code",
      "metadata": {
        "id": "zcn215a2qism",
        "outputId": "48ccaa83-427f-4cbf-d034-b1d2ed8a3e54",
        "colab": {
          "base_uri": "https://localhost:8080/"
        }
      },
      "source": [
        "# print(y_test[:5])\n",
        "# print(y_pred[:5])\n",
        "print('Actual values and Predicted values \\n')\n",
        "for i in zip(y_test[:5],y_pred[:5]):\n",
        "  print(i)"
      ],
      "execution_count": 38,
      "outputs": [
        {
          "output_type": "stream",
          "text": [
            "Actual values and Predicted values \n",
            "\n",
            "(20, 17.147378491554413)\n",
            "(27, 33.76624425589311)\n",
            "(69, 74.82461849720048)\n",
            "(30, 26.92318188234188)\n",
            "(62, 60.16091341101927)\n"
          ],
          "name": "stdout"
        }
      ]
    },
    {
      "cell_type": "code",
      "metadata": {
        "id": "RoepmWKD2iPo",
        "outputId": "779a7540-c06e-4301-bbaa-7484e40005e5",
        "colab": {
          "base_uri": "https://localhost:8080/",
          "height": 295
        }
      },
      "source": [
        "# plotting graph to show Actual and predicted values\n",
        "\n",
        "plt.grid()\n",
        "plt.scatter(x_test, y_test,label='Actual')\n",
        "plt.scatter(x_test,y_pred,c='red',label='Predicted')\n",
        "plt.xlabel('Hours')\n",
        "plt.ylabel('scores')\n",
        "plt.title('Actual score and Predicted')\n",
        "plt.legend()\n",
        "plt.show()"
      ],
      "execution_count": 28,
      "outputs": [
        {
          "output_type": "display_data",
          "data": {
            "image/png": "[encoded data removed]",
            "text/plain": [
              "<Figure size 432x288 with 1 Axes>"
            ]
          },
          "metadata": {
            "tags": [],
            "needs_background": "light"
          }
        }
      ]
    },
    {
      "cell_type": "markdown",
      "metadata": {
        "id": "HChK5h-ysX7r"
      },
      "source": [
        "## model accuracy "
      ]
    },
    {
      "cell_type": "code",
      "metadata": {
        "id": "-hlgUUGKrBci",
        "outputId": "ee677b92-1d9d-4862-d33d-fe9573a31194",
        "colab": {
          "base_uri": "https://localhost:8080/"
        }
      },
      "source": [
        "model.score(x_test.reshape(-1,1), y_test)"
      ],
      "execution_count": 16,
      "outputs": [
        {
          "output_type": "execute_result",
          "data": {
            "text/plain": [
              "0.9491748734859172"
            ]
          },
          "metadata": {
            "tags": []
          },
          "execution_count": 16
        }
      ]
    },
    {
      "cell_type": "markdown",
      "metadata": {
        "id": "TrMRZMmSyu4f"
      },
      "source": [
        "## Calculating Root mean square Error "
      ]
    },
    {
      "cell_type": "code",
      "metadata": {
        "id": "bHvcB10Wy2uK",
        "outputId": "1f8be431-8ac2-4ca3-865b-f13173714f40",
        "colab": {
          "base_uri": "https://localhost:8080/"
        }
      },
      "source": [
        "from sklearn.metrics import mean_squared_error\n",
        "mse = mean_squared_error(y_test,y_pred)\n",
        "rmse = np.sqrt(mse)\n",
        "print(f\"MSE: {mse} \\n RMSE : {rmse}\")"
      ],
      "execution_count": 17,
      "outputs": [
        {
          "output_type": "stream",
          "text": [
            "MSE: 20.138948129940175 \n",
            " RMSE : 4.487643939746131\n"
          ],
          "name": "stdout"
        }
      ]
    },
    {
      "cell_type": "code",
      "metadata": {
        "id": "ZXM0s-MTz52x"
      },
      "source": [
        ""
      ],
      "execution_count": 17,
      "outputs": []
    },
    {
      "cell_type": "markdown",
      "metadata": {
        "id": "dz2yfJJxs9rs"
      },
      "source": [
        "# ** predicting study hours about 9.25 "
      ]
    },
    {
      "cell_type": "markdown",
      "metadata": {
        "id": "Tvnm7BqksswI"
      },
      "source": [
        "If any student will study about 9.25 hours he will get nearly 92.90 Scores in exams"
      ]
    },
    {
      "cell_type": "code",
      "metadata": {
        "id": "KQUTyU6CrW1A",
        "outputId": "24a2624e-8475-4b03-8dce-559b35f8b895",
        "colab": {
          "base_uri": "https://localhost:8080/"
        }
      },
      "source": [
        "# print(f'The marks will obtain by studying 9.25 hours : {model.predict([[9.25]])[0]}')\n",
        "print(f\" No. of study Hours : 9.25  \\n\",\n",
        "      f\"Marks will get : {model.predict([[9.25]])[0]}\")"
      ],
      "execution_count": 18,
      "outputs": [
        {
          "output_type": "stream",
          "text": [
            " No. of study Hours : 9.25  \n",
            " Marks will get : 92.9098547701573\n"
          ],
          "name": "stdout"
        }
      ]
    },
    {
      "cell_type": "code",
      "metadata": {
        "id": "DYQN5FQZsoi1"
      },
      "source": [
        ""
      ],
      "execution_count": 18,
      "outputs": []
    },
    {
      "cell_type": "code",
      "metadata": {
        "id": "ts3lEXmCu8CX"
      },
      "source": [
        ""
      ],
      "execution_count": 18,
      "outputs": []
    }
  ]
}